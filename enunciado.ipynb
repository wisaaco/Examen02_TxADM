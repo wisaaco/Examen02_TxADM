{
 "cells": [
  {
   "cell_type": "markdown",
   "metadata": {},
   "source": [
    "# Un mal estudio..."
   ]
  },
  {
   "cell_type": "code",
   "execution_count": 3,
   "metadata": {},
   "outputs": [],
   "source": [
    "import pandas as pd\n",
    "import numpy as np"
   ]
  },
  {
   "cell_type": "code",
   "execution_count": 4,
   "metadata": {},
   "outputs": [
    {
     "name": "stdout",
     "output_type": "stream",
     "text": [
      "Index(['Código de mesa', 'Provincia', 'Código \\nmunicipio', 'Municipio',\n",
      "       'Distrito', 'Sección', 'Mesa', 'Censo', 'Primer Avance',\n",
      "       'Segundo Avance', 'Total Votantes', 'Votos Nulos', 'Votos Blanco',\n",
      "       'Partido', 'Nş Votos'],\n",
      "      dtype='object')\n",
      "(51784, 15)\n",
      "   Código de mesa Provincia  Código \\nmunicipio Municipio  Distrito  Sección  \\\n",
      "0  05-001-1-001-U     AVILA                   1   ADANERO         1        1   \n",
      "1  05-001-1-001-U     AVILA                   1   ADANERO         1        1   \n",
      "2  05-001-1-001-U     AVILA                   1   ADANERO         1        1   \n",
      "3  05-001-1-001-U     AVILA                   1   ADANERO         1        1   \n",
      "4  05-001-1-001-U     AVILA                   1   ADANERO         1        1   \n",
      "5  05-001-1-001-U     AVILA                   1   ADANERO         1        1   \n",
      "6  05-001-1-001-U     AVILA                   1   ADANERO         1        1   \n",
      "7  05-001-1-001-U     AVILA                   1   ADANERO         1        1   \n",
      "8  05-001-1-001-U     AVILA                   1   ADANERO         1        1   \n",
      "9  05-001-1-001-U     AVILA                   1   ADANERO         1        1   \n",
      "\n",
      "  Mesa  Censo  Primer Avance  Segundo Avance  Total Votantes  Votos Nulos  \\\n",
      "0    U    173             49              85             108            2   \n",
      "1    U    173             49              85             108            2   \n",
      "2    U    173             49              85             108            2   \n",
      "3    U    173             49              85             108            2   \n",
      "4    U    173             49              85             108            2   \n",
      "5    U    173             49              85             108            2   \n",
      "6    U    173             49              85             108            2   \n",
      "7    U    173             49              85             108            2   \n",
      "8    U    173             49              85             108            2   \n",
      "9    U    173             49              85             108            2   \n",
      "\n",
      "   Votos Blanco         Partido  Nş Votos  \n",
      "0             2              PP        41  \n",
      "1             2             VOX        23  \n",
      "2             2        P.S.O.E.        23  \n",
      "3             2             XAV        13  \n",
      "4             2              Cs         2  \n",
      "5             2   PODEMOS-IU-AV         1  \n",
      "6             2           PACMA         1  \n",
      "7             2   PYC (ANULADA)         0  \n",
      "8             2      PCAS-TC-RC         0  \n",
      "9             2  FE de las JONS         0  \n",
      "4531\n",
      "['C.Bierzo - BEX' 'Cs' 'DESPIERTA' 'EB' 'ESPAŃA VACIADA' 'FE de las JONS'\n",
      " 'P.S.O.E.' 'PACMA' 'PCAS-TC-RC' 'PCAS-TC-Recortes Cero' 'PCTE'\n",
      " 'PODEMOS-IU-AV' 'POR ZAMORA' 'PP' 'PP.CC.AL' 'PREPAL' 'PSOE' 'PUEDE'\n",
      " 'PUM+J' 'PYC (ANULADA)' 'SY' 'TAB' 'UNIÓN REGIONALISTA' 'UPL' 'VOLT'\n",
      " 'VOX' 'XAV' 'ZAMORA DECIDE' 'centrados']\n"
     ]
    }
   ],
   "source": [
    "# Fuente: \n",
    "# https://datos.gob.es/es/catalogo/80a2358d-d745-4632-a422-3556d90e0b47\n",
    "# Publicador  Junta de Castilla y León Público\n",
    "# Nivel de administración  Administración Autonómica\n",
    "# Licencia https://creativecommons.org/licenses/by/4.0/deed.es_ES\n",
    "\n",
    "df = pd.read_csv(\"ResultadosElectorales2022.csv\",encoding=\"cp1250\",sep=\";\")\n",
    "##\n",
    "print(df.columns)\n",
    "print(df.shape)\n",
    "print(df.head(10))\n",
    "##\n",
    "print(len(np.unique(df['Código de mesa'])))\n",
    "##\n",
    "print(np.unique(df.Partido))\n"
   ]
  },
  {
   "cell_type": "code",
   "execution_count": 5,
   "metadata": {},
   "outputs": [
    {
     "name": "stdout",
     "output_type": "stream",
     "text": [
      "155352\n"
     ]
    }
   ],
   "source": [
    "# A1. Si en cada mesa hay 3 voluntarios, ¿cuántos voluntarios han sido necesarios?\n",
    "#print(len(df)*3)\n",
    "#Identificamos el número total de mesas que no se repiten en la columna\" Código de mesa\" y multiplicamos por 3\n",
    "total_voluntarios = len(np.unique(df['Código de mesa'])) * 3\n",
    "print(\"Número total de voluntarios necesarios:\", total_voluntarios)"
   ]
  },
  {
   "cell_type": "code",
   "execution_count": 6,
   "metadata": {},
   "outputs": [
    {
     "data": {
      "text/plain": [
       "0.654325195724643"
      ]
     },
     "execution_count": 6,
     "metadata": {},
     "output_type": "execute_result"
    }
   ],
   "source": [
    "# A2. ¿Cuál es la participación media de votantes?\n",
    "#(df[\"Total Votantes\"]/df[\"Censo\"]).mean()\n",
    "# Calcular la media de \"Total Votantes\" y \"Censo\" para cada mesa\n",
    "media_votantes_por_mesa = df.groupby('Código de mesa')['Total Votantes'].mean()\n",
    "media_censo_por_mesa = df.groupby('Código de mesa')['Censo'].mean()\n",
    "\n",
    "# Calcular la participación media de votantes para cada mesa\n",
    "participacion_media_por_mesa = media_votantes_por_mesa / media_censo_por_mesa\n",
    "\n",
    "# Calcular la participación media general\n",
    "participacion_media_general = participacion_media_por_mesa.mean()\n",
    "\n",
    "print(\"\\nParticipación media general:\")\n",
    "print(participacion_media_general)"
   ]
  },
  {
   "cell_type": "code",
   "execution_count": 51,
   "metadata": {},
   "outputs": [
    {
     "name": "stdout",
     "output_type": "stream",
     "text": [
      "0.02218832071682373\n"
     ]
    }
   ],
   "source": [
    "# A3. ¿En qué porcentaje de municipios se ha presentado el partido \"ESPAÑA VACIADA\"?\n",
    "dff = df[(df[\"Partido\"].isin([\"ESPAŃA VACIADA\"]))][[\"Municipio\"]]\n",
    "municipios = np.unique(dff.values)\n",
    "#print(len(municipios)/len(df)) ERROR\n",
    "# Calcular el porcentaje de municipios en los que se ha presentado el partido\n",
    "porcentaje_municipios_con_partido = (len(municipios) / len(np.unique(df[\"Municipio\"]))) * 100\n",
    "\n",
    "print(f\"Porcentaje de municipios con el partido 'ESPAÑA VACIADA': {porcentaje_municipios_con_partido:.2f}%\")"
   ]
  },
  {
   "cell_type": "code",
   "execution_count": 10,
   "metadata": {},
   "outputs": [
    {
     "name": "stdout",
     "output_type": "stream",
     "text": [
      "            Censo\n",
      "Provincia        \n",
      "AVILA         990\n",
      "BURGOS        907\n",
      "LEÓN          878\n",
      "PALENCIA      909\n",
      "SALAMANCA     981\n",
      "SEGOVIA      1061\n",
      "SORIA         828\n",
      "VALLADOLID    944\n",
      "ZAMORA       1158\n"
     ]
    }
   ],
   "source": [
    "# A4. ¿Cuál es el censo por provincia?\n",
    "df2 = df.groupby([df.columns[0],df.columns[1]]).first().reset_index()\n",
    "print(df2.groupby(\"Provincia\").agg({\"Censo\":np.sum}))"
   ]
  },
  {
   "cell_type": "code",
   "execution_count": 28,
   "metadata": {},
   "outputs": [
    {
     "name": "stdout",
     "output_type": "stream",
     "text": [
      "El PP ha obtenido más votos que el PSOE en 1661 mesas electorales sobre un total de 4531 mesas. \n"
     ]
    }
   ],
   "source": [
    "# A5. ¿En cuántas mesas electorales el \"PP\" ha obtenido más votos que el \"P.S.O.E.\" o \"PSOE\"?\n",
    "dff = df[(df[\"Partido\"].isin([\"PP\",\"P.S.O.E.\",\"PSOE\"]))][[\"Municipio\",\"Código de mesa\",\"Partido\",df.columns[-1]]]\n",
    "dfpartidos = pd.pivot_table(dff,index=\"Partido\",columns=[\"Municipio\",\"Código de mesa\"])\n",
    "respectoPSOE = (dfpartidos.loc[\"PP\"]>dfpartidos.loc[\"P.S.O.E.\"]).sum()\n",
    "respectoPSOE += (dfpartidos.loc[\"PP\"]>dfpartidos.loc[\"PSOE\"]).sum()\n",
    "\n",
    "print(\"El PP ha obtenido más votos que el PSOE en %i mesas electorales sobre un total de %i mesas. \"%(respectoPSOE,dff.shape[0]//2))"
   ]
  },
  {
   "cell_type": "code",
   "execution_count": 50,
   "metadata": {},
   "outputs": [
    {
     "name": "stdout",
     "output_type": "stream",
     "text": [
      "Comunidades y número de mesas:\n",
      " {'AVILA': 769, 'BURGOS': 729, 'LEÓN': 725, 'PALENCIA': 684, 'SALAMANCA': 369, 'SEGOVIA': 356, 'SORIA': 325, 'VALLADOLID': 319, 'ZAMORA': 255}\n"
     ]
    }
   ],
   "source": [
    "# A6. ¿Ordena las comunidades según su número de mesas electorales?\n",
    "comunidades, mesas = np.unique(df.groupby([\"Provincia\",df.columns[0]]).first().index.get_level_values(0),return_counts=True)\n",
    "mesas = sorted(mesas,reverse=True)\n",
    "comunmesas = dict(zip(comunidades,mesas))\n",
    "print(\"Comunidades y número de mesas:\\n\", comunmesas)"
   ]
  }
 ],
 "metadata": {
  "kernelspec": {
   "display_name": "my397",
   "language": "python",
   "name": "python3"
  },
  "language_info": {
   "codemirror_mode": {
    "name": "ipython",
    "version": 3
   },
   "file_extension": ".py",
   "mimetype": "text/x-python",
   "name": "python",
   "nbconvert_exporter": "python",
   "pygments_lexer": "ipython3",
   "version": "3.9.7"
  }
 },
 "nbformat": 4,
 "nbformat_minor": 2
}
